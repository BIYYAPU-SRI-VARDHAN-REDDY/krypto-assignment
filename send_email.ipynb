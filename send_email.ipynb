{
  "nbformat": 4,
  "nbformat_minor": 0,
  "metadata": {
    "colab": {
      "name": "Untitled24.ipynb",
      "provenance": []
    },
    "kernelspec": {
      "name": "python3",
      "display_name": "Python 3"
    },
    "language_info": {
      "name": "python"
    }
  },
  "cells": [
    {
      "cell_type": "code",
      "source": [
        "import sys"
      ],
      "metadata": {
        "id": "wrR32Ns9c_9E"
      },
      "execution_count": 7,
      "outputs": []
    },
    {
      "cell_type": "code",
      "source": [
        "pip install alpha-vantage"
      ],
      "metadata": {
        "colab": {
          "base_uri": "https://localhost:8080/"
        },
        "id": "tQf6vNnFeeB-",
        "outputId": "cdaf7447-285d-4f98-ac78-e77f6d38625b"
      },
      "execution_count": 13,
      "outputs": [
        {
          "output_type": "stream",
          "name": "stdout",
          "text": [
            "Looking in indexes: https://pypi.org/simple, https://us-python.pkg.dev/colab-wheels/public/simple/\n",
            "Collecting alpha-vantage\n",
            "  Downloading alpha_vantage-2.3.1-py3-none-any.whl (31 kB)\n",
            "Requirement already satisfied: requests in /usr/local/lib/python3.7/dist-packages (from alpha-vantage) (2.23.0)\n",
            "Requirement already satisfied: aiohttp in /usr/local/lib/python3.7/dist-packages (from alpha-vantage) (3.8.1)\n",
            "Requirement already satisfied: attrs>=17.3.0 in /usr/local/lib/python3.7/dist-packages (from aiohttp->alpha-vantage) (21.4.0)\n",
            "Requirement already satisfied: yarl<2.0,>=1.0 in /usr/local/lib/python3.7/dist-packages (from aiohttp->alpha-vantage) (1.7.2)\n",
            "Requirement already satisfied: asynctest==0.13.0 in /usr/local/lib/python3.7/dist-packages (from aiohttp->alpha-vantage) (0.13.0)\n",
            "Requirement already satisfied: frozenlist>=1.1.1 in /usr/local/lib/python3.7/dist-packages (from aiohttp->alpha-vantage) (1.3.0)\n",
            "Requirement already satisfied: typing-extensions>=3.7.4 in /usr/local/lib/python3.7/dist-packages (from aiohttp->alpha-vantage) (4.1.1)\n",
            "Requirement already satisfied: aiosignal>=1.1.2 in /usr/local/lib/python3.7/dist-packages (from aiohttp->alpha-vantage) (1.2.0)\n",
            "Requirement already satisfied: multidict<7.0,>=4.5 in /usr/local/lib/python3.7/dist-packages (from aiohttp->alpha-vantage) (6.0.2)\n",
            "Requirement already satisfied: charset-normalizer<3.0,>=2.0 in /usr/local/lib/python3.7/dist-packages (from aiohttp->alpha-vantage) (2.1.0)\n",
            "Requirement already satisfied: async-timeout<5.0,>=4.0.0a3 in /usr/local/lib/python3.7/dist-packages (from aiohttp->alpha-vantage) (4.0.2)\n",
            "Requirement already satisfied: idna>=2.0 in /usr/local/lib/python3.7/dist-packages (from yarl<2.0,>=1.0->aiohttp->alpha-vantage) (2.10)\n",
            "Requirement already satisfied: urllib3!=1.25.0,!=1.25.1,<1.26,>=1.21.1 in /usr/local/lib/python3.7/dist-packages (from requests->alpha-vantage) (1.24.3)\n",
            "Requirement already satisfied: certifi>=2017.4.17 in /usr/local/lib/python3.7/dist-packages (from requests->alpha-vantage) (2022.6.15)\n",
            "Requirement already satisfied: chardet<4,>=3.0.2 in /usr/local/lib/python3.7/dist-packages (from requests->alpha-vantage) (3.0.4)\n",
            "Installing collected packages: alpha-vantage\n",
            "Successfully installed alpha-vantage-2.3.1\n"
          ]
        }
      ]
    },
    {
      "cell_type": "code",
      "execution_count": 16,
      "metadata": {
        "id": "9OtPVGVsADAZ"
      },
      "outputs": [],
      "source": [
        "import pandas as pd #data manipulation and analysis package\n",
        "from alpha_vantage.timeseries import TimeSeries #enables data pull \n",
        "\n",
        "import matplotlib.pyplot as plt #if you want to plot your findings\n",
        "import time\n",
        "import smtplib #enables you to send emails"
      ]
    },
    {
      "cell_type": "code",
      "source": [
        "#Getting the data from alpha_vantage\n",
        "ts = TimeSeries(key='XUJ6BGGNW5VQ9E46', output_format='pandas')\n",
        "data, meta_data = ts.get_intraday(symbol='MSFT',interval='1min', outputsize='full')"
      ],
      "metadata": {
        "id": "BLxvba6UdjfE"
      },
      "execution_count": 17,
      "outputs": []
    },
    {
      "cell_type": "code",
      "source": [
        "#We are currently interested in the latest price\n",
        "close_data = data['4. close'] #The close data column\n",
        "last_price = close_data[0] #Selecting the last price from the \n",
        "close_data #column\n",
        "#Check if you're getting a correct value\n",
        "print(last_price) "
      ],
      "metadata": {
        "colab": {
          "base_uri": "https://localhost:8080/"
        },
        "id": "rS37ZbGBdzFb",
        "outputId": "a7fae501-f96f-4bec-c9f6-60d4e2c6aa97"
      },
      "execution_count": 20,
      "outputs": [
        {
          "output_type": "stream",
          "name": "stdout",
          "text": [
            "277.62\n"
          ]
        }
      ]
    },
    {
      "cell_type": "code",
      "source": [
        "#Set the desired message you want to see once the stock price is at a certain level\n",
        "sender_email = \"biyyapu.srivardhan2019@vitstudent.ac.in\" #The sender email\n",
        "rec_email = \"srivardhanreddy973@gmail.com\" #The receiver email\n",
        "password = (\"Sri@123456789\") #The password to the sender email\n",
        "message = \"MSFT STOCK ALERT!!! The stock is at above price you set \" + \"%.6f\" % last_price  #The message you want to send"
      ],
      "metadata": {
        "id": "2ZY-b2iEfGGa"
      },
      "execution_count": 45,
      "outputs": []
    },
    {
      "cell_type": "code",
      "source": [
        "target_sell_price = 220 #enter the price you want to sell at\n",
        "if last_price > target_sell_price:\n",
        "    server = smtplib.SMTP('smtp.gmail.com', 587)\n",
        "    server.starttls()\n",
        "    server.login(sender_email, password) #logs into your email account\n",
        "    print(\"Login Success\") #confirms that you have logged in succesfully\n",
        "    server.sendmail(sender_email, rec_email, message) #send the email with your custom mesage\n",
        "    print(\"Email was sent\") #confirms that the email was sent"
      ],
      "metadata": {
        "id": "inEmmJynlQbk"
      },
      "execution_count": null,
      "outputs": []
    }
  ]
}